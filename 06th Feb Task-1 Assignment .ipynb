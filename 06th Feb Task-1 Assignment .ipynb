{
 "cells": [
  {
   "cell_type": "code",
   "execution_count": null,
   "id": "2f055a61-3921-4fe3-a5a1-6751415bb111",
   "metadata": {},
   "outputs": [],
   "source": [
    "#task-1 assignment\n",
    "\"\"\"Q1.Q1. Create a function which will take a list as an argument and return the product of all the numbers\n",
    "after creating a flat list.\n",
    "Use the below-given list as an argument for your function.\n",
    "list1 = [1,2,3,4, [44,55,66, True], False, (34,56,78,89,34), {1,2,3,3,2,1}, {1:34, \"key2\": [55, 67, 78, 89], 4: (45,\n",
    "22, 61, 34)}, [56, 'data science'], 'Machine Learning']\n",
    "Note: you must extract numeric keys and values of the dictionary also.\"\"\"\n",
    "Ans: def product_list(list1): \n",
    "    prod = 1\n",
    "    for i in list1: \n",
    "        if type(i) == list or type(i) == tuple or type(i) == dict: \n",
    "            for j in i: \n",
    "                if type(j) == int or type(j) == float: \n",
    "                    prod *= j \n",
    "        elif type(i) == int or type(i) == float: \n",
    "            prod *= i \n",
    "    return prod \n",
    "  \n",
    "list1 = [1,2,3,4, [44,55,66, True], False, (34,56,78,89,34), {1,2,3,3,2,1}, {1:34,\"key2\": [55, 67, 78 ,89], 4: (45, 22, 61, 34)}, [56, 'data science'], 'Machine Learning'] \n",
    "print(product_list(list1)) \n",
    "\n",
    "# Output: 385877123104112640\n",
    "\n",
    "\"\"\"Q2. Write a python program for encrypting a message sent to you by your friend. The logic of encryption\n",
    "should be such that, for a the output should be z. For b, the output should be y. For c, the output should\n",
    "be x respectively. Also, the whitespace should be replaced with a dollar sign. Keep the punctuation\n",
    "marks unchanged.\n",
    "Input Sentence: I want to become a Data Scientist.\n",
    "Encrypt the above input sentence using the program you just created.\n",
    "Note: Convert the given input sentence into lowercase before encrypting. The final output should be\n",
    "lowercase.\"\"\"\n",
    "Ans: \n",
    "    message = input(\"Enter the message sent by your friend: \")\n",
    "\n",
    "encrypted_message = \"\"\n",
    "\n",
    "for char in message: \n",
    "    if char == 'a': \n",
    "        encrypted_message += 'z' \n",
    "    elif char == 'b': \n",
    "        encrypted_message += 'y' \n",
    "    elif char == 'c': \n",
    "        encrypted_message += 'x' \n",
    "    elif char == ' ': \n",
    "        encrypted_message += '$' \n",
    "    else: \n",
    "        encrypted_message += char \n",
    "\n",
    "print(\"The encrypted message is:\", encrypted_message)\n",
    "\n",
    "#Output Sentence: i$wznt$to$yexome$z$dztz$sxientist.\n"
   ]
  }
 ],
 "metadata": {
  "kernelspec": {
   "display_name": "Python 3 (ipykernel)",
   "language": "python",
   "name": "python3"
  },
  "language_info": {
   "codemirror_mode": {
    "name": "ipython",
    "version": 3
   },
   "file_extension": ".py",
   "mimetype": "text/x-python",
   "name": "python",
   "nbconvert_exporter": "python",
   "pygments_lexer": "ipython3",
   "version": "3.10.8"
  }
 },
 "nbformat": 4,
 "nbformat_minor": 5
}
